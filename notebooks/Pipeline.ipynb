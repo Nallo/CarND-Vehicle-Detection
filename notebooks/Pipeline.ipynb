{
 "cells": [
  {
   "cell_type": "markdown",
   "metadata": {},
   "source": [
    "# Pipeline Notebook"
   ]
  },
  {
   "cell_type": "markdown",
   "metadata": {},
   "source": [
    "---\n",
    "## Train a Classifier - SVM"
   ]
  },
  {
   "cell_type": "code",
   "execution_count": null,
   "metadata": {
    "collapsed": true
   },
   "outputs": [],
   "source": [
    "import numpy as np\n",
    "import cv2\n",
    "import pickle\n",
    "import glob\n",
    "import matplotlib.pyplot as plt\n",
    "import matplotlib.image as mpimg\n",
    "from skimage import img_as_ubyte\n",
    "from sklearn.utils import shuffle\n",
    "from sklearn.preprocessing import MinMaxScaler\n",
    "%matplotlib inline"
   ]
  },
  {
   "cell_type": "markdown",
   "metadata": {},
   "source": [
    "### Load Training Data"
   ]
  },
  {
   "cell_type": "code",
   "execution_count": null,
   "metadata": {
    "collapsed": false
   },
   "outputs": [],
   "source": [
    "CAR_DIR_REGEX = '../dataset/vehicles/**/*.png'\n",
    "NOCAR_DIR_REGEX = '../dataset/non-vehicles/**/*.png'\n",
    "\n",
    "car_fnames = glob.glob(CAR_DIR_REGEX, recursive=True)\n",
    "nocar_fnames = glob.glob(NOCAR_DIR_REGEX, recursive=True)\n",
    "\n",
    "print('Loading data...')\n",
    "print()\n",
    "car_imgs = np.array([mpimg.imread(fname) for fname in car_fnames])\n",
    "nocar_imgs = np.array([mpimg.imread(fname) for fname in nocar_fnames])\n",
    "\n",
    "car_imgs_n = car_imgs.shape[0]\n",
    "nocar_imgs_n = nocar_imgs.shape[0]\n",
    "\n",
    "print('Loaded {} images of cars.'.format(car_imgs_n))\n",
    "print('Loaded {} images of non-cars.'.format(nocar_imgs_n))\n",
    "print()\n",
    "print('Single image has size {}.'.format(car_imgs.shape[1:3]))\n",
    "print('Single image has {} colors.'.format(car_imgs.shape[3]))"
   ]
  },
  {
   "cell_type": "markdown",
   "metadata": {},
   "source": [
    "### Explore Training Data"
   ]
  },
  {
   "cell_type": "code",
   "execution_count": null,
   "metadata": {
    "collapsed": false
   },
   "outputs": [],
   "source": [
    "def display_images(images, title=None, limit=16, need_shuffle=False):\n",
    "    if need_shuffle==True:\n",
    "        images = shuffle(images, random_state=0)\n",
    "\n",
    "    img_count = limit if (len(images)>limit) else len(images)\n",
    "    m_cols = 8\n",
    "    m_rows = int(img_count/m_cols) + (int(img_count/m_cols)==0)\n",
    "\n",
    "    plt.figure(figsize=(15,4))\n",
    "    for idx in range(limit):\n",
    "        plt.subplot(m_rows, m_cols, idx+1)\n",
    "        plt.axis('off')\n",
    "        if title is not None: plt.title(title[idx])\n",
    "        plt.imshow(images[idx])\n",
    "\n",
    "    plt.show()\n",
    "    return\n",
    "\n",
    "print('Cars')\n",
    "display_images(car_imgs, need_shuffle=True)\n",
    "print('No-Cars')\n",
    "display_images(nocar_imgs, need_shuffle=True)"
   ]
  },
  {
   "cell_type": "code",
   "execution_count": null,
   "metadata": {
    "collapsed": false
   },
   "outputs": [],
   "source": [
    "def display_hist_classes(cars_images, nocars_images):\n",
    "    xticks = np.arange(4)\n",
    "    ind = xticks[1:3]\n",
    "    width = 0.65\n",
    "\n",
    "    class_counts = (len(cars_images), len(nocars_images))\n",
    "    plt.bar(ind, class_counts, width, facecolor='green', alpha=0.5, align='center')\n",
    "    plt.xticks(xticks, ('', 'Cars', 'No-Cars', ''))\n",
    "    plt.yticks(np.arange(0, int(1.2*max(class_counts)), 1000))\n",
    "    plt.grid(True)\n",
    "    plt.show()\n",
    "    return\n",
    "\n",
    "display_hist_classes(car_imgs, nocar_imgs)"
   ]
  },
  {
   "cell_type": "markdown",
   "metadata": {},
   "source": [
    "### Define Training Features"
   ]
  },
  {
   "cell_type": "code",
   "execution_count": null,
   "metadata": {
    "collapsed": false
   },
   "outputs": [],
   "source": [
    "# Choose two samples randomly\n",
    "titles = ['Car', 'No-Car']\n",
    "car_img = car_imgs[np.random.randint(car_imgs_n)]\n",
    "nocar_img = nocar_imgs[np.random.randint(nocar_imgs_n)]\n",
    "\n",
    "\n",
    "display_images([car_img, nocar_img], title=titles, limit=2)"
   ]
  },
  {
   "cell_type": "code",
   "execution_count": null,
   "metadata": {
    "collapsed": false
   },
   "outputs": [],
   "source": [
    "def color_hist(img, color_space='HSV', nbins=32, bins_range=(0, 256)):\n",
    "    w, h = img.shape[1], img.shape[0]\n",
    "    scaler = MinMaxScaler(feature_range=(0, 255), copy=False)\n",
    "\n",
    "    if color_space == 'HSV':\n",
    "        conv_img = cv2.cvtColor(img, cv2.COLOR_RGB2HSV)\n",
    "    elif color_space == 'HLS':\n",
    "        conv_img = cv2.cvtColor(img, cv2.COLOR_RGB2HLS)\n",
    "    else:\n",
    "        conv_img = np.copy(img)\n",
    "\n",
    "    plt.figure(figsize=(15,4))\n",
    "    for idx in range(3):\n",
    "        flat_img_ch = conv_img[:,:,idx].reshape(w*h,1)\n",
    "        flat_img_ch_norm = scaler.fit_transform(flat_img_ch)\n",
    "        plt.subplot(1, 3, idx+1)\n",
    "        plt.title(color_space[idx])\n",
    "        plt.hist(flat_img_ch_norm, bins=nbins, range=bins_range, facecolor='green', alpha=0.5)\n",
    "        plt.tight_layout()\n",
    "\n",
    "    plt.show()\n",
    "    return\n",
    "\n",
    "def compare_hist(car_img, nocar_img, color_space='HSV', nbins=32, bins_range=(0, 256)):\n",
    "    w, h = car_img.shape[1], car_img.shape[0]\n",
    "    scaler = MinMaxScaler(feature_range=(0, 255), copy=False)\n",
    "\n",
    "    if color_space == 'HSV':\n",
    "        car_conv_img = cv2.cvtColor(car_img, cv2.COLOR_RGB2HSV)\n",
    "        nocar_conv_img = cv2.cvtColor(nocar_img, cv2.COLOR_RGB2HSV)\n",
    "    elif color_space == 'HLS':\n",
    "        car_conv_img = cv2.cvtColor(car_img, cv2.COLOR_RGB2HLS)\n",
    "        nocar_conv_img = cv2.cvtColor(nocar_img, cv2.COLOR_RGB2HLS)\n",
    "    else:\n",
    "        car_conv_img = np.copy(car_img)\n",
    "        nocar_conv_img = np.copy(nocar_img)\n",
    "        \n",
    "    plt.figure(figsize=(15,4))\n",
    "    for idx in range(3):\n",
    "        car_ch = car_conv_img[:,:,idx].reshape(w*h,1)\n",
    "        nocar_ch = nocar_conv_img[:,:,idx].reshape(w*h,1)\n",
    "\n",
    "        car_norm = scaler.fit_transform(car_ch)\n",
    "        nocar_norm = scaler.fit_transform(nocar_ch)\n",
    "\n",
    "        car_his = np.histogram(car_norm, bins=nbins, range=bins_range)\n",
    "        nocar_hist = np.histogram(nocar_norm, bins=nbins, range=bins_range)\n",
    "\n",
    "        plt.subplot(1, 3, idx+1)\n",
    "        plt.title(color_space[idx])\n",
    "        car_data = plt.plot(np.linspace(0,256,32), car_his[0], 'b', label='Car')\n",
    "        nocar_data = plt.plot(np.linspace(0,256,32), nocar_hist[0], 'r', label='No-Car')\n",
    "        plt.legend()\n",
    "        plt.tight_layout()\n",
    "\n",
    "    plt.show()\n",
    "    return"
   ]
  },
  {
   "cell_type": "code",
   "execution_count": null,
   "metadata": {
    "collapsed": false
   },
   "outputs": [],
   "source": [
    "# HSV hist\n",
    "print('Car')\n",
    "color_hist(car_img, color_space='HSV')\n",
    "print('No-Car')\n",
    "color_hist(nocar_img, color_space='HSV')"
   ]
  },
  {
   "cell_type": "code",
   "execution_count": null,
   "metadata": {
    "collapsed": false
   },
   "outputs": [],
   "source": [
    "compare_hist(car_img, nocar_img, color_space='RGB')\n",
    "compare_hist(car_img, nocar_img, color_space='HSV')\n",
    "compare_hist(car_img, nocar_img, color_space='HLS')"
   ]
  },
  {
   "cell_type": "markdown",
   "metadata": {},
   "source": [
    "### Train Test Split"
   ]
  },
  {
   "cell_type": "code",
   "execution_count": null,
   "metadata": {
    "collapsed": true
   },
   "outputs": [],
   "source": []
  },
  {
   "cell_type": "markdown",
   "metadata": {},
   "source": [
    "### Training"
   ]
  },
  {
   "cell_type": "code",
   "execution_count": null,
   "metadata": {
    "collapsed": true
   },
   "outputs": [],
   "source": []
  },
  {
   "cell_type": "markdown",
   "metadata": {},
   "source": [
    "### Evaluation"
   ]
  },
  {
   "cell_type": "code",
   "execution_count": null,
   "metadata": {
    "collapsed": true
   },
   "outputs": [],
   "source": []
  },
  {
   "cell_type": "markdown",
   "metadata": {},
   "source": [
    "---\n",
    "## Sliding Window Search"
   ]
  },
  {
   "cell_type": "markdown",
   "metadata": {},
   "source": [
    "### Define Searching Area"
   ]
  },
  {
   "cell_type": "code",
   "execution_count": null,
   "metadata": {
    "collapsed": true
   },
   "outputs": [],
   "source": []
  },
  {
   "cell_type": "markdown",
   "metadata": {},
   "source": [
    "### Searching"
   ]
  },
  {
   "cell_type": "code",
   "execution_count": null,
   "metadata": {
    "collapsed": true
   },
   "outputs": [],
   "source": []
  },
  {
   "cell_type": "markdown",
   "metadata": {},
   "source": [
    "### Identifiy Cars Position - Centroid Method"
   ]
  },
  {
   "cell_type": "code",
   "execution_count": null,
   "metadata": {
    "collapsed": true
   },
   "outputs": [],
   "source": []
  },
  {
   "cell_type": "markdown",
   "metadata": {},
   "source": [
    "---\n",
    "## Pipeline - Video"
   ]
  },
  {
   "cell_type": "code",
   "execution_count": null,
   "metadata": {
    "collapsed": true
   },
   "outputs": [],
   "source": []
  }
 ],
 "metadata": {
  "anaconda-cloud": {},
  "kernelspec": {
   "display_name": "Python [conda env:sdcEnvPython3]",
   "language": "python",
   "name": "conda-env-sdcEnvPython3-py"
  },
  "language_info": {
   "codemirror_mode": {
    "name": "ipython",
    "version": 3
   },
   "file_extension": ".py",
   "mimetype": "text/x-python",
   "name": "python",
   "nbconvert_exporter": "python",
   "pygments_lexer": "ipython3",
   "version": "3.5.2"
  }
 },
 "nbformat": 4,
 "nbformat_minor": 1
}
