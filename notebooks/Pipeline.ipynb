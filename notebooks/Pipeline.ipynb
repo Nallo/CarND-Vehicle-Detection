{
 "cells": [
  {
   "cell_type": "markdown",
   "metadata": {},
   "source": [
    "# Pipeline Notebook"
   ]
  },
  {
   "cell_type": "markdown",
   "metadata": {},
   "source": [
    "---\n",
    "## Train a Classifier - SVM"
   ]
  },
  {
   "cell_type": "code",
   "execution_count": null,
   "metadata": {
    "collapsed": true
   },
   "outputs": [],
   "source": [
    "import numpy as np\n",
    "import cv2\n",
    "import pickle\n",
    "import glob\n",
    "import matplotlib.pyplot as plt\n",
    "import matplotlib.image as mpimg\n",
    "from skimage import img_as_ubyte\n",
    "%matplotlib inline"
   ]
  },
  {
   "cell_type": "markdown",
   "metadata": {},
   "source": [
    "### Load Training Data"
   ]
  },
  {
   "cell_type": "code",
   "execution_count": null,
   "metadata": {
    "collapsed": false
   },
   "outputs": [],
   "source": [
    "CAR_DIR_REGEX = '../dataset/vehicles/**/*.png'\n",
    "NOCAR_DIR_REGEX = '../dataset/non-vehicles/**/*.png'\n",
    "\n",
    "car_fnames = glob.glob(CAR_DIR_REGEX, recursive=True)\n",
    "nocar_fnames = glob.glob(NOCAR_DIR_REGEX, recursive=True)\n",
    "\n",
    "print('Loading data...')\n",
    "print()\n",
    "car_imgs = np.array([mpimg.imread(fname) for fname in car_fnames])\n",
    "nocar_imgs = np.array([mpimg.imread(fname) for fname in nocar_fnames])\n",
    "\n",
    "print('Loaded {} images of cars.'.format(car_imgs.shape[0]))\n",
    "print('Loaded {} images of non-cars.'.format(nocar_imgs.shape[0]))\n",
    "print()\n",
    "print('Single image has size {}.'.format(car_imgs.shape[1:3]))\n",
    "print('Single image has {} colors.'.format(car_imgs.shape[3]))"
   ]
  },
  {
   "cell_type": "markdown",
   "metadata": {},
   "source": [
    "### Explore Training Data"
   ]
  },
  {
   "cell_type": "code",
   "execution_count": null,
   "metadata": {
    "collapsed": false
   },
   "outputs": [],
   "source": [
    "def display_images(images, title=None, limit=16):\n",
    "    img_count = limit if (len(images)>limit) else len(images)\n",
    "    m_cols = 8\n",
    "    m_rows = int(img_count/m_cols) + (int(img_count/m_cols)==0)\n",
    "\n",
    "    plt.figure(figsize=(15,4))\n",
    "    for idx in range(limit):\n",
    "        plt.subplot(m_rows, m_cols, idx+1)\n",
    "        plt.axis('off')\n",
    "        plt.title(title)\n",
    "        plt.imshow(images[idx])\n",
    "\n",
    "    plt.show()\n",
    "    return\n",
    "\n",
    "display_images(car_imgs, title=\"Car\")\n",
    "display_images(nocar_imgs, title=\"No-Car\")"
   ]
  },
  {
   "cell_type": "code",
   "execution_count": null,
   "metadata": {
    "collapsed": false
   },
   "outputs": [],
   "source": [
    "def display_hist_classes(cars_images, nocars_images):\n",
    "    xticks = np.arange(4)\n",
    "    ind = xticks[1:3]\n",
    "    width = 0.65\n",
    "\n",
    "    class_counts = (len(cars_images), len(nocars_images))\n",
    "    plt.bar(ind, class_counts, width, facecolor='green', alpha=0.5, align='center')\n",
    "    plt.xticks(xticks, ('', 'Cars', 'No-Cars', ''))\n",
    "    plt.yticks(np.arange(0, int(1.2*max(class_counts)), 1000))\n",
    "    plt.grid(True)\n",
    "    plt.show()\n",
    "    return\n",
    "\n",
    "display_hist_classes(car_imgs, nocar_imgs)"
   ]
  },
  {
   "cell_type": "markdown",
   "metadata": {},
   "source": [
    "### Define Training Features"
   ]
  },
  {
   "cell_type": "code",
   "execution_count": null,
   "metadata": {
    "collapsed": true
   },
   "outputs": [],
   "source": []
  },
  {
   "cell_type": "markdown",
   "metadata": {},
   "source": [
    "### Train Test Split"
   ]
  },
  {
   "cell_type": "code",
   "execution_count": null,
   "metadata": {
    "collapsed": true
   },
   "outputs": [],
   "source": []
  },
  {
   "cell_type": "markdown",
   "metadata": {},
   "source": [
    "### Training"
   ]
  },
  {
   "cell_type": "code",
   "execution_count": null,
   "metadata": {
    "collapsed": true
   },
   "outputs": [],
   "source": []
  },
  {
   "cell_type": "markdown",
   "metadata": {},
   "source": [
    "### Evaluation"
   ]
  },
  {
   "cell_type": "code",
   "execution_count": null,
   "metadata": {
    "collapsed": true
   },
   "outputs": [],
   "source": []
  },
  {
   "cell_type": "markdown",
   "metadata": {},
   "source": [
    "---\n",
    "## Sliding Window Search"
   ]
  },
  {
   "cell_type": "markdown",
   "metadata": {},
   "source": [
    "### Define Searching Area"
   ]
  },
  {
   "cell_type": "code",
   "execution_count": null,
   "metadata": {
    "collapsed": true
   },
   "outputs": [],
   "source": []
  },
  {
   "cell_type": "markdown",
   "metadata": {},
   "source": [
    "### Searching"
   ]
  },
  {
   "cell_type": "code",
   "execution_count": null,
   "metadata": {
    "collapsed": true
   },
   "outputs": [],
   "source": []
  },
  {
   "cell_type": "markdown",
   "metadata": {},
   "source": [
    "### Identifiy Cars Position - Centroid Method"
   ]
  },
  {
   "cell_type": "code",
   "execution_count": null,
   "metadata": {
    "collapsed": true
   },
   "outputs": [],
   "source": []
  },
  {
   "cell_type": "markdown",
   "metadata": {},
   "source": [
    "---\n",
    "## Pipeline - Video"
   ]
  },
  {
   "cell_type": "code",
   "execution_count": null,
   "metadata": {
    "collapsed": true
   },
   "outputs": [],
   "source": []
  }
 ],
 "metadata": {
  "anaconda-cloud": {},
  "kernelspec": {
   "display_name": "Python [conda env:sdcEnvPython3]",
   "language": "python",
   "name": "conda-env-sdcEnvPython3-py"
  },
  "language_info": {
   "codemirror_mode": {
    "name": "ipython",
    "version": 3
   },
   "file_extension": ".py",
   "mimetype": "text/x-python",
   "name": "python",
   "nbconvert_exporter": "python",
   "pygments_lexer": "ipython3",
   "version": "3.5.2"
  }
 },
 "nbformat": 4,
 "nbformat_minor": 1
}
