{
 "cells": [
  {
   "cell_type": "markdown",
   "metadata": {},
   "source": [
    "# Pipeline Notebook"
   ]
  },
  {
   "cell_type": "markdown",
   "metadata": {},
   "source": [
    "---\n",
    "## Train a Classifier - SVM"
   ]
  },
  {
   "cell_type": "code",
   "execution_count": null,
   "metadata": {
    "collapsed": true
   },
   "outputs": [],
   "source": [
    "import numpy as np\n",
    "import cv2\n",
    "import pickle\n",
    "import glob\n",
    "import matplotlib.pyplot as plt\n",
    "import matplotlib.image as mpimg\n",
    "from skimage.feature import hog\n",
    "from sklearn.utils import shuffle\n",
    "from sklearn.preprocessing import MinMaxScaler\n",
    "%matplotlib inline"
   ]
  },
  {
   "cell_type": "markdown",
   "metadata": {},
   "source": [
    "### Load Training Data"
   ]
  },
  {
   "cell_type": "code",
   "execution_count": null,
   "metadata": {
    "collapsed": false
   },
   "outputs": [],
   "source": [
    "CAR_DIR_REGEX = '../dataset/vehicles/**/*.png'\n",
    "NOCAR_DIR_REGEX = '../dataset/non-vehicles/**/*.png'\n",
    "\n",
    "car_fnames = glob.glob(CAR_DIR_REGEX, recursive=True)\n",
    "nocar_fnames = glob.glob(NOCAR_DIR_REGEX, recursive=True)\n",
    "\n",
    "print('Loading data...')\n",
    "print()\n",
    "car_imgs = np.array([mpimg.imread(fname) for fname in car_fnames])\n",
    "nocar_imgs = np.array([mpimg.imread(fname) for fname in nocar_fnames])\n",
    "\n",
    "car_imgs_n = car_imgs.shape[0]\n",
    "nocar_imgs_n = nocar_imgs.shape[0]\n",
    "\n",
    "print('Loaded {} images of cars.'.format(car_imgs_n))\n",
    "print('Loaded {} images of non-cars.'.format(nocar_imgs_n))\n",
    "print()\n",
    "print('Single image has size {}.'.format(car_imgs.shape[1:3]))\n",
    "print('Single image has {} colors.'.format(car_imgs.shape[3]))"
   ]
  },
  {
   "cell_type": "markdown",
   "metadata": {},
   "source": [
    "### Explore Training Data"
   ]
  },
  {
   "cell_type": "code",
   "execution_count": null,
   "metadata": {
    "collapsed": false
   },
   "outputs": [],
   "source": [
    "def display_images(images, title=None, limit=16, need_shuffle=False):\n",
    "    if need_shuffle==True:\n",
    "        images = shuffle(images, random_state=0)\n",
    "\n",
    "    img_count = limit if (len(images)>limit) else len(images)\n",
    "    m_cols = 8\n",
    "    m_rows = int(img_count/m_cols) + (int(img_count/m_cols)==0)\n",
    "\n",
    "    plt.figure(figsize=(15,4))\n",
    "    for idx in range(limit):\n",
    "        plt.subplot(m_rows, m_cols, idx+1)\n",
    "        plt.axis('off')\n",
    "        if title is not None: plt.title(title[idx])\n",
    "        plt.imshow(images[idx])\n",
    "\n",
    "    plt.show()\n",
    "    return\n",
    "\n",
    "print('Cars')\n",
    "display_images(car_imgs, need_shuffle=True)\n",
    "print('No-Cars')\n",
    "display_images(nocar_imgs, need_shuffle=True)"
   ]
  },
  {
   "cell_type": "code",
   "execution_count": null,
   "metadata": {
    "collapsed": false
   },
   "outputs": [],
   "source": [
    "def display_hist_classes(cars_images, nocars_images):\n",
    "    xticks = np.arange(4)\n",
    "    ind = xticks[1:3]\n",
    "    width = 0.65\n",
    "\n",
    "    class_counts = (len(cars_images), len(nocars_images))\n",
    "    plt.bar(ind, class_counts, width, facecolor='green', alpha=0.5, align='center')\n",
    "    plt.xticks(xticks, ('', 'Cars', 'No-Cars', ''))\n",
    "    plt.yticks(np.arange(0, int(1.2*max(class_counts)), 1000))\n",
    "    plt.grid(True)\n",
    "    plt.show()\n",
    "    return\n",
    "\n",
    "display_hist_classes(car_imgs, nocar_imgs)"
   ]
  },
  {
   "cell_type": "markdown",
   "metadata": {},
   "source": [
    "### Define Training Features"
   ]
  },
  {
   "cell_type": "code",
   "execution_count": null,
   "metadata": {
    "collapsed": false
   },
   "outputs": [],
   "source": [
    "# Choose two samples randomly\n",
    "titles = ['Car', 'No-Car']\n",
    "car_img = car_imgs[np.random.randint(car_imgs_n)]\n",
    "nocar_img = nocar_imgs[np.random.randint(nocar_imgs_n)]\n",
    "\n",
    "\n",
    "display_images([car_img, nocar_img], title=titles, limit=2)"
   ]
  },
  {
   "cell_type": "markdown",
   "metadata": {},
   "source": [
    "### Color Features"
   ]
  },
  {
   "cell_type": "code",
   "execution_count": null,
   "metadata": {
    "collapsed": false
   },
   "outputs": [],
   "source": [
    "def compute_color_hist(img, color_space='RGB', nbins=32, bins_range=(0, 256)):\n",
    "    \"\"\" Computes the histograms of the given image on all of the 3 channels.\n",
    "        Eventually, it converts the image to a new color space.\n",
    "        Before computing the histogram, the pixel values are\n",
    "        scaled to match the bins_range.\n",
    "    \"\"\"\n",
    "    channels = img.shape[2]\n",
    "    w, h = img.shape[1], car_img.shape[0]\n",
    "    scaler = MinMaxScaler(feature_range=bins_range, copy=False)\n",
    "\n",
    "    # color space convertion\n",
    "    if color_space == 'HSV':\n",
    "        conv_img = cv2.cvtColor(img, cv2.COLOR_RGB2HSV)\n",
    "    elif color_space == 'HLS':\n",
    "        conv_img = cv2.cvtColor(img, cv2.COLOR_RGB2HLS)\n",
    "    elif color_space == 'LUV':\n",
    "        conv_img = cv2.cvtColor(img, cv2.COLOR_RGB2LUV)\n",
    "    elif color_space == 'YUV':\n",
    "        conv_img = cv2.cvtColor(img, cv2.COLOR_RGB2YUV)\n",
    "    else:\n",
    "        conv_img = np.copy(img)\n",
    "\n",
    "    histograms = []\n",
    "    for idx in range(channels):\n",
    "        # get the channel idx and reshape\n",
    "        # the array for the scaler\n",
    "        ch = conv_img[:,:,idx].reshape(w*h,1)\n",
    "        # scale the values to the given range\n",
    "        ch_norm = scaler.fit_transform(ch)\n",
    "        # compute the histogram\n",
    "        ch_hist = np.histogram(ch_norm, bins=nbins, range=bins_range)\n",
    "        # append the histogram\n",
    "        histograms.append(ch_hist)\n",
    "\n",
    "    return np.array(histograms)\n",
    "\n",
    "def compare_color_hists(car_histograms, nocar_histograms, ch_names=['Red','Green','Blue']):\n",
    "    \"\"\" Plots the histogram of each image channel in\n",
    "        such a way to enhance Car and No-Car color\n",
    "        channel features.\n",
    "    \"\"\"\n",
    "    channels = car_histograms.shape[0]\n",
    "\n",
    "    plt.figure(figsize=(15,4))\n",
    "    for idx in range(channels):\n",
    "        plt.subplot(1, 3, idx+1)\n",
    "        if ch_names is not None: plt.title(ch_names[idx])\n",
    "\n",
    "        # compute bar center using bin ranges\n",
    "        x_ticks = car_histograms[idx][1][1:] - car_histograms[idx][1][1]/2\n",
    "        car_data = plt.plot(x_ticks, car_histograms[idx][0], 'b', label='Car')\n",
    "        nocar_data = plt.plot(x_ticks, nocar_histograms[idx][0], 'r', label='No-Car')\n",
    "\n",
    "        plt.legend()\n",
    "        plt.tight_layout()\n",
    "\n",
    "    plt.show()\n",
    "    return"
   ]
  },
  {
   "cell_type": "code",
   "execution_count": null,
   "metadata": {
    "collapsed": false
   },
   "outputs": [],
   "source": [
    "# RGB\n",
    "rgb_car_hists = compute_color_hist(car_img)\n",
    "rgb_nocar_hists = compute_color_hist(nocar_img)\n",
    "compare_color_hists(rgb_car_hists, rgb_nocar_hists)\n",
    "\n",
    "# HSV\n",
    "hsv_car_hists = compute_color_hist(car_img, color_space='HSV')\n",
    "hsv_nocar_hists = compute_color_hist(nocar_img, color_space='HSV')\n",
    "compare_color_hists(hsv_car_hists, hsv_nocar_hists, ch_names=['Hue','Saturation','Value'])\n",
    "\n",
    "# HSL\n",
    "hls_car_hists = compute_color_hist(car_img, color_space='HLS')\n",
    "hls_nocar_hists = compute_color_hist(nocar_img, color_space='HLS')\n",
    "compare_color_hists(hls_car_hists, hls_nocar_hists, ch_names=['Hue','Lightness','Saturation'])"
   ]
  },
  {
   "cell_type": "markdown",
   "metadata": {},
   "source": [
    "### Gradient Features"
   ]
  },
  {
   "cell_type": "code",
   "execution_count": null,
   "metadata": {
    "collapsed": true
   },
   "outputs": [],
   "source": [
    "def compute_hog(img, pix_per_cell=8, cell_per_block=2, orient=9, vis=False, feature_vec=True):\n",
    "    \"\"\" Computes the Histogram of Oriented Gradient.\n",
    "        The total number of features in your final feature vector\n",
    "        will be the total number of block positions multiplied by\n",
    "        the number of cells per block, times the number of orientations.\n",
    "    \n",
    "    img: a single color channel or grayscaled image.\n",
    "    \n",
    "    pix_per_cell: specifies the cell size over which each gradient\n",
    "        histogram is computed. This paramater is passed as a 2-tuple\n",
    "        but cells are commonly chosen to be square.\n",
    "\n",
    "    cell_per_block: passed as a 2-tuple, and specifies the local area\n",
    "        over which the histogram counts in a given cell will be normalized.\n",
    "        Block normalization is not necessarily required, but generally\n",
    "        leads to a more robust feature set.\n",
    "    \n",
    "    orient: specified as an integer, and represents the number of\n",
    "        orientation bins that the gradient information will be split\n",
    "        up into in the histogram. Typical values are between 6 and 12 bins.\n",
    "\n",
    "    vis: if True, the function returns an image as 2nd parameter\n",
    "    \n",
    "    feature_vec: if True, returns the HOG for the image as 1D (flattened) array.\n",
    "    \"\"\"\n",
    "    if vis == True:\n",
    "        features, hog_img = hog(img,\n",
    "                                orientations=orient,\n",
    "                                pixels_per_cell=(pix_per_cell, pix_per_cell),\n",
    "                                cells_per_block=(cell_per_block, cell_per_block),\n",
    "                                transform_sqrt=False, \n",
    "                                visualise=True,\n",
    "                                feature_vector=False)\n",
    "        return features, hog_img\n",
    "    else:      \n",
    "        features = hog(img,\n",
    "                       orientations=orient,\n",
    "                       pixels_per_cell=(pix_per_cell, pix_per_cell),\n",
    "                       cells_per_block=(cell_per_block, cell_per_block),\n",
    "                       transform_sqrt=False, \n",
    "                       visualise=False,\n",
    "                       feature_vector=feature_vec)\n",
    "        return features\n",
    "\n",
    "def compare_hog_hists(car_histogram, nocar_histogram):\n",
    "    plt.figure(figsize=(10,4))\n",
    "\n",
    "    plt.subplot(1, 2, 1)\n",
    "    plt.title(\"Car HOG\")\n",
    "    plt.imshow(car_histogram)\n",
    "\n",
    "    plt.subplot(1, 2, 2)\n",
    "    plt.title(\"No-Car HOG\")\n",
    "    plt.imshow(nocar_histogram)\n",
    "\n",
    "    plt.show()\n",
    "    return"
   ]
  },
  {
   "cell_type": "code",
   "execution_count": null,
   "metadata": {
    "collapsed": false
   },
   "outputs": [],
   "source": [
    "# From the color features analysis we have choosen HSV S-channel\n",
    "car_hsv_img = cv2.cvtColor(car_img, cv2.COLOR_RGB2HSV)\n",
    "nocar_hsv_img = cv2.cvtColor(nocar_img, cv2.COLOR_RGB2HSV)\n",
    "car_s_ch = car_hsv_img[:,:,1]\n",
    "nocar_s_ch = nocar_hsv_img[:,:,1]\n",
    "\n",
    "# Compute HOG\n",
    "car_features, car_hog_img = compute_hog(car_s_ch, vis=True, feature_vec=False)\n",
    "nocar_features, nocar_hog_img = compute_hog(nocar_s_ch, vis=True, feature_vec=False)\n",
    "\n",
    "# Display HOG\n",
    "compare_hog_hists(car_hog_img, nocar_hog_img)"
   ]
  },
  {
   "cell_type": "markdown",
   "metadata": {},
   "source": [
    "### Train Test Split"
   ]
  },
  {
   "cell_type": "code",
   "execution_count": null,
   "metadata": {
    "collapsed": true
   },
   "outputs": [],
   "source": []
  },
  {
   "cell_type": "markdown",
   "metadata": {},
   "source": [
    "### Training"
   ]
  },
  {
   "cell_type": "code",
   "execution_count": null,
   "metadata": {
    "collapsed": true
   },
   "outputs": [],
   "source": []
  },
  {
   "cell_type": "markdown",
   "metadata": {},
   "source": [
    "### Evaluation"
   ]
  },
  {
   "cell_type": "code",
   "execution_count": null,
   "metadata": {
    "collapsed": true
   },
   "outputs": [],
   "source": []
  },
  {
   "cell_type": "markdown",
   "metadata": {},
   "source": [
    "---\n",
    "## Sliding Window Search"
   ]
  },
  {
   "cell_type": "markdown",
   "metadata": {},
   "source": [
    "### Define Searching Area"
   ]
  },
  {
   "cell_type": "code",
   "execution_count": null,
   "metadata": {
    "collapsed": true
   },
   "outputs": [],
   "source": []
  },
  {
   "cell_type": "markdown",
   "metadata": {},
   "source": [
    "### Searching"
   ]
  },
  {
   "cell_type": "code",
   "execution_count": null,
   "metadata": {
    "collapsed": true
   },
   "outputs": [],
   "source": []
  },
  {
   "cell_type": "markdown",
   "metadata": {},
   "source": [
    "### Identifiy Cars Position - Centroid Method"
   ]
  },
  {
   "cell_type": "code",
   "execution_count": null,
   "metadata": {
    "collapsed": true
   },
   "outputs": [],
   "source": []
  },
  {
   "cell_type": "markdown",
   "metadata": {},
   "source": [
    "---\n",
    "## Pipeline - Video"
   ]
  },
  {
   "cell_type": "code",
   "execution_count": null,
   "metadata": {
    "collapsed": true
   },
   "outputs": [],
   "source": []
  }
 ],
 "metadata": {
  "anaconda-cloud": {},
  "kernelspec": {
   "display_name": "Python [conda env:sdcEnvPython3]",
   "language": "python",
   "name": "conda-env-sdcEnvPython3-py"
  },
  "language_info": {
   "codemirror_mode": {
    "name": "ipython",
    "version": 3
   },
   "file_extension": ".py",
   "mimetype": "text/x-python",
   "name": "python",
   "nbconvert_exporter": "python",
   "pygments_lexer": "ipython3",
   "version": "3.5.2"
  }
 },
 "nbformat": 4,
 "nbformat_minor": 1
}
