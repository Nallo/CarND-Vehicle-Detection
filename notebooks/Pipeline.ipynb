{
 "cells": [
  {
   "cell_type": "markdown",
   "metadata": {},
   "source": [
    "# Pipeline Notebook"
   ]
  },
  {
   "cell_type": "markdown",
   "metadata": {},
   "source": [
    "---\n",
    "## Train a Classifier - SVM"
   ]
  },
  {
   "cell_type": "code",
   "execution_count": null,
   "metadata": {
    "collapsed": true
   },
   "outputs": [],
   "source": [
    "import numpy as np\n",
    "import cv2\n",
    "import pickle\n",
    "import glob\n",
    "import time\n",
    "import matplotlib.pyplot as plt\n",
    "import matplotlib.image as mpimg\n",
    "from sklearn.svm import LinearSVC\n",
    "from skimage.feature import hog\n",
    "from sklearn.cross_validation import train_test_split\n",
    "from sklearn.utils import shuffle\n",
    "from sklearn.preprocessing import MinMaxScaler\n",
    "from sklearn.preprocessing import StandardScaler\n",
    "%matplotlib inline"
   ]
  },
  {
   "cell_type": "markdown",
   "metadata": {},
   "source": [
    "### Load Training Data"
   ]
  },
  {
   "cell_type": "code",
   "execution_count": null,
   "metadata": {
    "collapsed": false
   },
   "outputs": [],
   "source": [
    "CAR_DIR_REGEX = '../dataset/vehicles/**/*.png'\n",
    "NOCAR_DIR_REGEX = '../dataset/non-vehicles/**/*.png'\n",
    "\n",
    "car_fnames = glob.glob(CAR_DIR_REGEX, recursive=True)\n",
    "nocar_fnames = glob.glob(NOCAR_DIR_REGEX, recursive=True)\n",
    "\n",
    "print('Loading data...')\n",
    "print()\n",
    "car_imgs = np.array([mpimg.imread(fname) for fname in car_fnames])\n",
    "nocar_imgs = np.array([mpimg.imread(fname) for fname in nocar_fnames])\n",
    "\n",
    "car_imgs_n = car_imgs.shape[0]\n",
    "nocar_imgs_n = nocar_imgs.shape[0]\n",
    "\n",
    "print('Loaded {} images of cars.'.format(car_imgs_n))\n",
    "print('Loaded {} images of non-cars.'.format(nocar_imgs_n))\n",
    "print()\n",
    "print('Single image has size {}.'.format(car_imgs.shape[1:3]))\n",
    "print('Single image has {} colors.'.format(car_imgs.shape[3]))"
   ]
  },
  {
   "cell_type": "markdown",
   "metadata": {},
   "source": [
    "### Explore Training Data"
   ]
  },
  {
   "cell_type": "code",
   "execution_count": null,
   "metadata": {
    "collapsed": false
   },
   "outputs": [],
   "source": [
    "def display_images(images, title=None, limit=16, need_shuffle=False):\n",
    "    if need_shuffle==True:\n",
    "        images = shuffle(images, random_state=0)\n",
    "\n",
    "    img_count = limit if (len(images)>limit) else len(images)\n",
    "    m_cols = 8\n",
    "    m_rows = int(img_count/m_cols) + (int(img_count/m_cols)==0)\n",
    "\n",
    "    plt.figure(figsize=(15,4))\n",
    "    for idx in range(limit):\n",
    "        plt.subplot(m_rows, m_cols, idx+1)\n",
    "        plt.axis('off')\n",
    "        if title is not None: plt.title(title[idx])\n",
    "        plt.imshow(images[idx])\n",
    "\n",
    "    plt.show()\n",
    "    return\n",
    "\n",
    "print('Cars')\n",
    "display_images(car_imgs, need_shuffle=True)\n",
    "print('No-Cars')\n",
    "display_images(nocar_imgs, need_shuffle=True)"
   ]
  },
  {
   "cell_type": "code",
   "execution_count": null,
   "metadata": {
    "collapsed": false
   },
   "outputs": [],
   "source": [
    "def display_hist_classes(cars_images, nocars_images):\n",
    "    xticks = np.arange(4)\n",
    "    ind = xticks[1:3]\n",
    "    width = 0.65\n",
    "\n",
    "    class_counts = (len(cars_images), len(nocars_images))\n",
    "    plt.bar(ind, class_counts, width, facecolor='green', alpha=0.5, align='center')\n",
    "    plt.xticks(xticks, ('', 'Cars', 'No-Cars', ''))\n",
    "    plt.yticks(np.arange(0, int(1.2*max(class_counts)), 1000))\n",
    "    plt.grid(True)\n",
    "    plt.show()\n",
    "    return\n",
    "\n",
    "display_hist_classes(car_imgs, nocar_imgs)"
   ]
  },
  {
   "cell_type": "markdown",
   "metadata": {},
   "source": [
    "### Define Training Features"
   ]
  },
  {
   "cell_type": "code",
   "execution_count": null,
   "metadata": {
    "collapsed": false
   },
   "outputs": [],
   "source": [
    "# Choose two samples randomly\n",
    "titles = ['Car', 'No-Car']\n",
    "car_img = car_imgs[np.random.randint(car_imgs_n)]\n",
    "nocar_img = nocar_imgs[np.random.randint(nocar_imgs_n)]\n",
    "\n",
    "\n",
    "display_images([car_img, nocar_img], title=titles, limit=2)"
   ]
  },
  {
   "cell_type": "markdown",
   "metadata": {},
   "source": [
    "### Color Features"
   ]
  },
  {
   "cell_type": "code",
   "execution_count": null,
   "metadata": {
    "collapsed": false
   },
   "outputs": [],
   "source": [
    "def compute_color_hist(img, color_space='RGB', nbins=32, bins_range=(0, 256)):\n",
    "    \"\"\" Computes the histograms of the given image on all of the 3 channels.\n",
    "        Eventually, it converts the image to a new color space.\n",
    "        Before computing the histogram, the pixel values are\n",
    "        scaled to match the bins_range.\n",
    "    \"\"\"\n",
    "    channels = img.shape[2]\n",
    "    w, h = img.shape[1], car_img.shape[0]\n",
    "    scaler = MinMaxScaler(feature_range=bins_range, copy=False)\n",
    "\n",
    "    # color space convertion\n",
    "    if color_space == 'HSV':\n",
    "        conv_img = cv2.cvtColor(img, cv2.COLOR_RGB2HSV)\n",
    "    elif color_space == 'HLS':\n",
    "        conv_img = cv2.cvtColor(img, cv2.COLOR_RGB2HLS)\n",
    "    elif color_space == 'LUV':\n",
    "        conv_img = cv2.cvtColor(img, cv2.COLOR_RGB2LUV)\n",
    "    elif color_space == 'YUV':\n",
    "        conv_img = cv2.cvtColor(img, cv2.COLOR_RGB2YUV)\n",
    "    else:\n",
    "        conv_img = np.copy(img)\n",
    "\n",
    "    histograms = []\n",
    "    for idx in range(channels):\n",
    "        # get the channel idx and reshape\n",
    "        # the array for the scaler\n",
    "        ch = conv_img[:,:,idx].reshape(w*h,1)\n",
    "        # scale the values to the given range\n",
    "        ch_norm = scaler.fit_transform(ch)\n",
    "        # compute the histogram\n",
    "        ch_hist = np.histogram(ch_norm, bins=nbins, range=bins_range)\n",
    "        # append the histogram\n",
    "        histograms.append(ch_hist)\n",
    "\n",
    "    return np.array(histograms)\n",
    "\n",
    "def compare_color_hists(car_histograms, nocar_histograms, ch_names=['Red','Green','Blue']):\n",
    "    \"\"\" Plots the histogram of each image channel in\n",
    "        such a way to enhance Car and No-Car color\n",
    "        channel features.\n",
    "    \"\"\"\n",
    "    channels = car_histograms.shape[0]\n",
    "\n",
    "    plt.figure(figsize=(15,4))\n",
    "    for idx in range(channels):\n",
    "        plt.subplot(1, 3, idx+1)\n",
    "        if ch_names is not None: plt.title(ch_names[idx])\n",
    "\n",
    "        # compute bar center using bin ranges\n",
    "        x_ticks = car_histograms[idx][1][1:] - car_histograms[idx][1][1]/2\n",
    "        car_data = plt.plot(x_ticks, car_histograms[idx][0], 'b', label='Car')\n",
    "        nocar_data = plt.plot(x_ticks, nocar_histograms[idx][0], 'r', label='No-Car')\n",
    "\n",
    "        plt.legend()\n",
    "        plt.tight_layout()\n",
    "\n",
    "    plt.show()\n",
    "    return"
   ]
  },
  {
   "cell_type": "code",
   "execution_count": null,
   "metadata": {
    "collapsed": false
   },
   "outputs": [],
   "source": [
    "# RGB\n",
    "rgb_car_hists = compute_color_hist(car_img)\n",
    "rgb_nocar_hists = compute_color_hist(nocar_img)\n",
    "compare_color_hists(rgb_car_hists, rgb_nocar_hists)\n",
    "\n",
    "# HSV\n",
    "hsv_car_hists = compute_color_hist(car_img, color_space='HSV')\n",
    "hsv_nocar_hists = compute_color_hist(nocar_img, color_space='HSV')\n",
    "compare_color_hists(hsv_car_hists, hsv_nocar_hists, ch_names=['Hue','Saturation','Value'])\n",
    "\n",
    "# HSL\n",
    "hls_car_hists = compute_color_hist(car_img, color_space='HLS')\n",
    "hls_nocar_hists = compute_color_hist(nocar_img, color_space='HLS')\n",
    "compare_color_hists(hls_car_hists, hls_nocar_hists, ch_names=['Hue','Lightness','Saturation'])"
   ]
  },
  {
   "cell_type": "markdown",
   "metadata": {},
   "source": [
    "### Gradient Features"
   ]
  },
  {
   "cell_type": "code",
   "execution_count": null,
   "metadata": {
    "collapsed": true
   },
   "outputs": [],
   "source": [
    "def compute_hog(img, pix_per_cell=8, cell_per_block=2, orient=9, vis=False, feature_vec=True):\n",
    "    \"\"\" Computes the Histogram of Oriented Gradient.\n",
    "        The total number of features in your final feature vector\n",
    "        will be the total number of block positions multiplied by\n",
    "        the number of cells per block, times the number of orientations.\n",
    "    \n",
    "    img: a single color channel or grayscaled image.\n",
    "    \n",
    "    pix_per_cell: specifies the cell size over which each gradient\n",
    "        histogram is computed. This paramater is passed as a 2-tuple\n",
    "        but cells are commonly chosen to be square.\n",
    "\n",
    "    cell_per_block: passed as a 2-tuple, and specifies the local area\n",
    "        over which the histogram counts in a given cell will be normalized.\n",
    "        Block normalization is not necessarily required, but generally\n",
    "        leads to a more robust feature set.\n",
    "    \n",
    "    orient: specified as an integer, and represents the number of\n",
    "        orientation bins that the gradient information will be split\n",
    "        up into in the histogram. Typical values are between 6 and 12 bins.\n",
    "\n",
    "    vis: if True, the function returns an image as 2nd parameter\n",
    "    \n",
    "    feature_vec: if True, returns the HOG for the image as 1D (flattened) array.\n",
    "    \"\"\"\n",
    "    if vis == True:\n",
    "        features, hog_img = hog(img,\n",
    "                                orientations=orient,\n",
    "                                pixels_per_cell=(pix_per_cell, pix_per_cell),\n",
    "                                cells_per_block=(cell_per_block, cell_per_block),\n",
    "                                transform_sqrt=False, \n",
    "                                visualise=True,\n",
    "                                feature_vector=False)\n",
    "        return features, hog_img\n",
    "    else:      \n",
    "        features = hog(img,\n",
    "                       orientations=orient,\n",
    "                       pixels_per_cell=(pix_per_cell, pix_per_cell),\n",
    "                       cells_per_block=(cell_per_block, cell_per_block),\n",
    "                       transform_sqrt=False, \n",
    "                       visualise=False,\n",
    "                       feature_vector=feature_vec)\n",
    "        return features\n",
    "\n",
    "def compare_hog_hists(car_histogram, nocar_histogram):\n",
    "    plt.figure(figsize=(10,4))\n",
    "\n",
    "    plt.subplot(1, 2, 1)\n",
    "    plt.title(\"Car HOG\")\n",
    "    plt.imshow(car_histogram)\n",
    "\n",
    "    plt.subplot(1, 2, 2)\n",
    "    plt.title(\"No-Car HOG\")\n",
    "    plt.imshow(nocar_histogram)\n",
    "\n",
    "    plt.show()\n",
    "    return"
   ]
  },
  {
   "cell_type": "code",
   "execution_count": null,
   "metadata": {
    "collapsed": false
   },
   "outputs": [],
   "source": [
    "# From the color features analysis we have choosen HSV S-channel\n",
    "car_hsv_img = cv2.cvtColor(car_img, cv2.COLOR_RGB2HSV)\n",
    "nocar_hsv_img = cv2.cvtColor(nocar_img, cv2.COLOR_RGB2HSV)\n",
    "car_s_ch = car_hsv_img[:,:,1]\n",
    "nocar_s_ch = nocar_hsv_img[:,:,1]\n",
    "\n",
    "# Compute HOG\n",
    "car_features, car_hog_img = compute_hog(car_s_ch, vis=True, feature_vec=False)\n",
    "nocar_features, nocar_hog_img = compute_hog(nocar_s_ch, vis=True, feature_vec=False)\n",
    "\n",
    "# Display HOG\n",
    "compare_hog_hists(car_hog_img, nocar_hog_img)"
   ]
  },
  {
   "cell_type": "markdown",
   "metadata": {},
   "source": [
    "### Combine and Normalize Feature Vectors"
   ]
  },
  {
   "cell_type": "code",
   "execution_count": null,
   "metadata": {
    "collapsed": true
   },
   "outputs": [],
   "source": [
    "# Define a function to compute binned color features  \n",
    "def bin_spatial(img, size=(32, 32)):\n",
    "    # Use cv2.resize().ravel() to create the feature vector\n",
    "    features = cv2.resize(img, size).ravel() \n",
    "    # Return the feature vector\n",
    "    return features\n",
    "\n",
    "# Define a function to compute color histogram features  \n",
    "def color_hist(img, nbins=32, bins_range=(0, 256)):\n",
    "    # Compute the histogram of the color channels separately\n",
    "    channel1_hist = np.histogram(img[:,:,0], bins=nbins, range=bins_range)\n",
    "    channel2_hist = np.histogram(img[:,:,1], bins=nbins, range=bins_range)\n",
    "    channel3_hist = np.histogram(img[:,:,2], bins=nbins, range=bins_range)\n",
    "    # Concatenate the histograms into a single feature vector\n",
    "    hist_features = np.concatenate((channel1_hist[0], channel2_hist[0], channel3_hist[0]))\n",
    "    # Return the individual histograms, bin_centers and feature vector\n",
    "    return hist_features\n",
    "\n",
    "# Define a function to extract features from a list of images\n",
    "# Have this function call bin_spatial() and color_hist()\n",
    "def extract_features(imgs, cspace='RGB', spatial_size=(32, 32), hist_bins=32, hist_range=(0, 256)):\n",
    "\n",
    "    # Create a list to append feature vectors to\n",
    "    features = []\n",
    "\n",
    "    # Iterate through the list of images\n",
    "    for image in imgs:\n",
    "        # apply color conversion if other than 'RGB'\n",
    "        if cspace != 'RGB':\n",
    "            if cspace == 'HSV':\n",
    "                feature_image = cv2.cvtColor(image, cv2.COLOR_RGB2HSV)\n",
    "            elif cspace == 'LUV':\n",
    "                feature_image = cv2.cvtColor(image, cv2.COLOR_RGB2LUV)\n",
    "            elif cspace == 'HLS':\n",
    "                feature_image = cv2.cvtColor(image, cv2.COLOR_RGB2HLS)\n",
    "            elif cspace == 'YUV':\n",
    "                feature_image = cv2.cvtColor(image, cv2.COLOR_RGB2YUV)\n",
    "        else: feature_image = np.copy(image)      \n",
    "        # Apply bin_spatial() to get spatial color features\n",
    "        spatial_features = bin_spatial(feature_image, size=spatial_size)\n",
    "        # Apply color_hist() also with a color space option now\n",
    "        hist_features = color_hist(feature_image, nbins=hist_bins, bins_range=hist_range)\n",
    "        # Compute HOG\n",
    "        ch1_hog_hist = compute_hog(feature_image[:,:,0])\n",
    "        ch2_hog_hist = compute_hog(feature_image[:,:,1])\n",
    "        ch3_hog_hist = compute_hog(feature_image[:,:,2])\n",
    "        hog_features = np.concatenate((ch1_hog_hist, ch2_hog_hist, ch3_hog_hist))\n",
    "        # Append the new feature vector to the features list\n",
    "        #features.append(np.concatenate((spatial_features, hist_features, hog_features)))\n",
    "        features.append(np.concatenate((spatial_features, ch2_hog_hist)))\n",
    "        #features.append(hog_features)\n",
    "    # Return list of feature vectors\n",
    "    return features"
   ]
  },
  {
   "cell_type": "code",
   "execution_count": null,
   "metadata": {
    "collapsed": false
   },
   "outputs": [],
   "source": [
    "car_features = extract_features(car_imgs,\n",
    "                                      cspace='HSV',\n",
    "                                      spatial_size=(32, 32),\n",
    "                                      hist_bins=32,\n",
    "                                      hist_range=(0, 256))\n",
    "notcar_features = extract_features(nocar_imgs,\n",
    "                                         cspace='HSV',\n",
    "                                         spatial_size=(32, 32),\n",
    "                                         hist_bins=32,\n",
    "                                         hist_range=(0, 256))"
   ]
  },
  {
   "cell_type": "code",
   "execution_count": null,
   "metadata": {
    "collapsed": false
   },
   "outputs": [],
   "source": [
    "print(car_imgs[0].shape)\n",
    "print(np.array(car_features).shape)\n",
    "\n",
    "if len(car_features) > 0:\n",
    "    # Create an array stack of feature vectors\n",
    "    X = np.vstack((car_features, notcar_features)).astype(np.float64)\n",
    "    print(X.shape)\n",
    "    # Fit a per-column scaler\n",
    "    X_scaler = StandardScaler().fit(X)\n",
    "    # Apply the scaler to X\n",
    "    scaled_X = X_scaler.transform(X)\n",
    "    # Define the labels vector\n",
    "    y = np.hstack((np.ones(len(car_features)), np.zeros(len(notcar_features))))\n",
    "    car_ind = np.random.randint(0, len(car_imgs))\n",
    "    nocar_ind = np.random.randint(0, len(nocar_imgs))\n",
    "    # Plot an example of raw and scaled features\n",
    "    fig = plt.figure(figsize=(12,4))\n",
    "\n",
    "    plt.subplot(231)\n",
    "    plt.imshow(car_imgs[car_ind])\n",
    "    plt.title('Original Image')\n",
    "    plt.subplot(232)\n",
    "    plt.plot(X[car_ind])\n",
    "    plt.title('Raw Features')\n",
    "    plt.subplot(233)\n",
    "    plt.plot(scaled_X[car_ind], 'g')\n",
    "    plt.title('Normalized Features')\n",
    "    \n",
    "    plt.subplot(234)\n",
    "    plt.imshow(nocar_imgs[nocar_ind])\n",
    "    plt.title('Original Image')\n",
    "    plt.subplot(235)\n",
    "    plt.plot(X[len(car_imgs) + nocar_ind])\n",
    "    plt.title('Raw Features')\n",
    "    plt.subplot(236)\n",
    "    plt.plot(scaled_X[len(car_imgs) + nocar_ind], 'g')\n",
    "    plt.title('Normalized Features')\n",
    "    fig.tight_layout()\n",
    "else: \n",
    "    print('Your function only returns empty feature vectors...')"
   ]
  },
  {
   "cell_type": "markdown",
   "metadata": {},
   "source": [
    "### Train Test Split"
   ]
  },
  {
   "cell_type": "code",
   "execution_count": null,
   "metadata": {
    "collapsed": false
   },
   "outputs": [],
   "source": [
    "rand_state = np.random.randint(0, 100)\n",
    "X_train, X_test, y_train, y_test = train_test_split(scaled_X, y, test_size=0.2, random_state=rand_state)\n",
    "\n",
    "print(\"Using {} samples for training\".format(len(X_train)))\n",
    "print(\"Using {} samples for testing\".format(len(X_test)))"
   ]
  },
  {
   "cell_type": "markdown",
   "metadata": {},
   "source": [
    "### Training a Linear SVM"
   ]
  },
  {
   "cell_type": "code",
   "execution_count": null,
   "metadata": {
    "collapsed": false
   },
   "outputs": [],
   "source": [
    "# Use a linear SVC \n",
    "svc = LinearSVC()\n",
    "\n",
    "# Check the training time for the SVC\n",
    "t0=time.time()\n",
    "svc.fit(X_train, y_train)\n",
    "t1 = time.time()\n",
    "\n",
    "print(round(t1-t0, 2), 'Seconds to train SVC...')"
   ]
  },
  {
   "cell_type": "markdown",
   "metadata": {},
   "source": [
    "### Evaluation"
   ]
  },
  {
   "cell_type": "code",
   "execution_count": null,
   "metadata": {
    "collapsed": false
   },
   "outputs": [],
   "source": [
    "print('Test Accuracy of SVC = ', round(svc.score(X_test, y_test), 4))"
   ]
  },
  {
   "cell_type": "code",
   "execution_count": null,
   "metadata": {
    "collapsed": false
   },
   "outputs": [],
   "source": [
    "# Check the prediction time for a single sample\n",
    "t0=time.time()\n",
    "n_predict = 10\n",
    "print('My SVC predicts: ', svc.predict(X_test[0:n_predict]))\n",
    "print('For these',n_predict, 'labels: ', y_test[0:n_predict])\n",
    "t1 = time.time()\n",
    "print(round(t1-t0, 5), 'Seconds to predict', n_predict,'labels with SVC')"
   ]
  },
  {
   "cell_type": "markdown",
   "metadata": {},
   "source": [
    "---\n",
    "## Sliding Window Search"
   ]
  },
  {
   "cell_type": "markdown",
   "metadata": {},
   "source": [
    "### Define Searching Area"
   ]
  },
  {
   "cell_type": "code",
   "execution_count": null,
   "metadata": {
    "collapsed": true
   },
   "outputs": [],
   "source": [
    "def draw_boxes(img, bboxes, color=(0, 0, 255), thick=6):\n",
    "    # Make a copy of the image\n",
    "    imcopy = np.copy(img)\n",
    "    # Iterate through the bounding boxes\n",
    "    for bbox in bboxes:\n",
    "        # Draw a rectangle given bbox coordinates\n",
    "        cv2.rectangle(imcopy, tuple(bbox[0]), tuple(bbox[1]), color, thick)\n",
    "    # Return the image copy with boxes drawn\n",
    "    return imcopy\n",
    "\n",
    "# Define a function that takes an image,\n",
    "# start and stop positions in both x and y, \n",
    "# window size (x and y dimensions),  \n",
    "# and overlap fraction (for both x and y)\n",
    "def slide_window(img, x_start_stop=[None, None], y_start_stop=[None, None],\n",
    "                     xy_window=(64, 64), xy_overlap=(0.5, 0.5)):\n",
    "    # If x and/or y start/stop positions not defined, set to image size\n",
    "    if x_start_stop[0] == None:\n",
    "        x_start_stop[0] = 0\n",
    "    if x_start_stop[1] == None:\n",
    "        x_start_stop[1] = img.shape[1]\n",
    "    if y_start_stop[0] == None:\n",
    "        y_start_stop[0] = 0\n",
    "    if y_start_stop[1] == None:\n",
    "        y_start_stop[1] = img.shape[0]\n",
    "\n",
    "    # Compute the span of the region to be searched    \n",
    "    xspan = x_start_stop[1] - x_start_stop[0]\n",
    "    yspan = y_start_stop[1] - y_start_stop[0]\n",
    "\n",
    "    # Compute the number of pixels per step in x/y\n",
    "    nx_pix_per_step = np.int(xy_window[0]*(1 - xy_overlap[0]))\n",
    "    ny_pix_per_step = np.int(xy_window[1]*(1 - xy_overlap[1]))\n",
    "\n",
    "    # Compute the number of windows in x/y\n",
    "    nx_windows = np.int(xspan/nx_pix_per_step) - 1\n",
    "    ny_windows = np.int(yspan/ny_pix_per_step) - 1\n",
    "\n",
    "    # Initialize a list to append window positions to\n",
    "    window_list = []\n",
    "\n",
    "    # Loop through finding x and y window positions\n",
    "    # Note: you could vectorize this step, but in practice\n",
    "    # you'll be considering windows one by one with your\n",
    "    # classifier, so looping makes sense\n",
    "    for ys in range(ny_windows):\n",
    "        for xs in range(nx_windows):\n",
    "            # Calculate window position\n",
    "            startx = xs*nx_pix_per_step + x_start_stop[0]\n",
    "            endx = startx + xy_window[0]\n",
    "            starty = ys*ny_pix_per_step + y_start_stop[0]\n",
    "            endy = starty + xy_window[1]\n",
    "            # Append window position to list\n",
    "            window_list.append(((startx, starty), (endx, endy)))\n",
    "\n",
    "    # Return the list of windows\n",
    "    return window_list"
   ]
  },
  {
   "cell_type": "markdown",
   "metadata": {},
   "source": [
    "### Searching"
   ]
  },
  {
   "cell_type": "code",
   "execution_count": null,
   "metadata": {
    "collapsed": false
   },
   "outputs": [],
   "source": [
    "image = mpimg.imread('../test_images/test1.jpg')\n",
    "w, h = image.shape[1], image.shape[0]\n",
    "windows = slide_window(image, x_start_stop=[None, None], y_start_stop=[np.int(h/2), None], \n",
    "                    xy_window=(128, 128), xy_overlap=(0.5, 0.5))\n",
    "                       \n",
    "print(\"Drawing {} windows\".format(len(windows)))\n",
    "print(windows[0])\n",
    "window_img = draw_boxes(image, windows, color=(0, 0, 255), thick=6)                    \n",
    "plt.imshow(window_img)\n",
    "plt.show()"
   ]
  },
  {
   "cell_type": "code",
   "execution_count": null,
   "metadata": {
    "collapsed": false
   },
   "outputs": [],
   "source": [
    "def extract_sub_imgs(img, windows):\n",
    "    sub_imgs = []\n",
    "\n",
    "    for win in windows:\n",
    "        xstart, xstop = win[0][0], win[1][0]\n",
    "        ystart, ystop = win[0][1], win[1][1]\n",
    "        sub_img = img[ystart:ystop,xstart:xstop,:]\n",
    "        sub_img = cv2.resize(sub_img, (64,64))\n",
    "        sub_imgs.append(sub_img)\n",
    "\n",
    "    return np.array(sub_imgs)\n",
    "\n",
    "# 1. extract sub-images\n",
    "sub_imgs = extract_sub_imgs(image, windows)\n",
    "print(sub_imgs.shape)\n",
    "\n",
    "# 2. extract features\n",
    "features = extract_features(sub_imgs, cspace='HSV', spatial_size=(32, 32), hist_bins=32, hist_range=(0, 256))\n",
    "\n",
    "# 3. Normalize\n",
    "X = np.array(features).astype(np.float64)\n",
    "scaled_X = X_scaler.transform(X)\n",
    "\n",
    "# 4. Classify\n",
    "pred = svc.predict(scaled_X)\n",
    "\n",
    "# 5. Display results\n",
    "car_indexes = np.nonzero(pred)\n",
    "car_boxes = np.asarray(windows)[car_indexes]\n",
    "window_img = draw_boxes(image, car_boxes, color=(0, 255, 0), thick=6)                    \n",
    "plt.imshow(window_img)\n",
    "plt.show()"
   ]
  },
  {
   "cell_type": "markdown",
   "metadata": {},
   "source": [
    "### Identifiy Cars Position - Centroid Method"
   ]
  },
  {
   "cell_type": "code",
   "execution_count": null,
   "metadata": {
    "collapsed": true
   },
   "outputs": [],
   "source": []
  },
  {
   "cell_type": "markdown",
   "metadata": {},
   "source": [
    "---\n",
    "## Pipeline - Video"
   ]
  },
  {
   "cell_type": "code",
   "execution_count": null,
   "metadata": {
    "collapsed": true
   },
   "outputs": [],
   "source": []
  }
 ],
 "metadata": {
  "anaconda-cloud": {},
  "kernelspec": {
   "display_name": "Python [conda env:sdcEnvPython3]",
   "language": "python",
   "name": "conda-env-sdcEnvPython3-py"
  },
  "language_info": {
   "codemirror_mode": {
    "name": "ipython",
    "version": 3
   },
   "file_extension": ".py",
   "mimetype": "text/x-python",
   "name": "python",
   "nbconvert_exporter": "python",
   "pygments_lexer": "ipython3",
   "version": "3.5.2"
  }
 },
 "nbformat": 4,
 "nbformat_minor": 1
}
